{
 "cells": [
  {
   "cell_type": "code",
   "execution_count": 35,
   "id": "b8074fa1",
   "metadata": {},
   "outputs": [],
   "source": [
    "from transformers import AutoTokenizer, AutoModelForSeq2SeqLM, PhrasalConstraint"
   ]
  },
  {
   "cell_type": "code",
   "execution_count": 4,
   "id": "44184595",
   "metadata": {},
   "outputs": [],
   "source": [
    "tokenizer = AutoTokenizer.from_pretrained(\"t5-base\")\n",
    "model = AutoModelForSeq2SeqLM.from_pretrained(\"t5-base\")"
   ]
  },
  {
   "cell_type": "code",
   "execution_count": 5,
   "id": "17ca124d",
   "metadata": {},
   "outputs": [],
   "source": [
    "encoder_input_str = \"translate English to German: How old are you?\"\n",
    "input_ids = tokenizer(encoder_input_str, return_tensors=\"pt\").input_ids"
   ]
  },
  {
   "cell_type": "markdown",
   "id": "7cbe6605",
   "metadata": {},
   "source": [
    "#### Traditional Beam Search"
   ]
  },
  {
   "cell_type": "code",
   "execution_count": 6,
   "id": "c5554377",
   "metadata": {},
   "outputs": [
    {
     "name": "stdout",
     "output_type": "stream",
     "text": [
      "Output:\n",
      "----------------------------------------------------------------------------------------------------\n",
      "Wie alt bist du?\n"
     ]
    }
   ],
   "source": [
    "outputs = model.generate(\n",
    "    input_ids,\n",
    "    num_beams=10,\n",
    "    num_return_sequences=1,\n",
    "    no_repeat_ngram_size=1,\n",
    "    remove_invalid_values=True,\n",
    ")\n",
    "\n",
    "print(\"Output:\\n\" + 100 * '-')\n",
    "print(tokenizer.decode(outputs[0], skip_special_tokens=True))"
   ]
  },
  {
   "cell_type": "markdown",
   "id": "1287acfa",
   "metadata": {},
   "source": [
    "#### Constrained Beam Search"
   ]
  },
  {
   "cell_type": "code",
   "execution_count": 7,
   "id": "47a1232a",
   "metadata": {},
   "outputs": [
    {
     "name": "stdout",
     "output_type": "stream",
     "text": [
      "Output:\n",
      "----------------------------------------------------------------------------------------------------\n",
      "Wie alt sind Sie?\n"
     ]
    }
   ],
   "source": [
    "force_words = [\"Sie\"]\n",
    "\n",
    "input_ids = tokenizer(encoder_input_str, return_tensors=\"pt\").input_ids\n",
    "force_words_ids = tokenizer(force_words, add_special_tokens=False).input_ids\n",
    "\n",
    "outputs = model.generate(\n",
    "    input_ids,\n",
    "    force_words_ids=force_words_ids,\n",
    "    num_beams=5,\n",
    "    num_return_sequences=1,\n",
    "    no_repeat_ngram_size=1,\n",
    "    remove_invalid_values=True,\n",
    ")\n",
    "\n",
    "\n",
    "print(\"Output:\\n\" + 100 * '-')\n",
    "print(tokenizer.decode(outputs[0], skip_special_tokens=True))"
   ]
  },
  {
   "cell_type": "markdown",
   "id": "7febe81f",
   "metadata": {},
   "source": [
    "#### Disjunctive Constrained Beam Search "
   ]
  },
  {
   "cell_type": "code",
   "execution_count": 11,
   "id": "ab55cd72",
   "metadata": {},
   "outputs": [],
   "source": [
    "from transformers import GPT2LMHeadModel, GPT2Tokenizer"
   ]
  },
  {
   "cell_type": "code",
   "execution_count": 30,
   "id": "bbbdf246",
   "metadata": {},
   "outputs": [],
   "source": [
    "model = GPT2LMHeadModel.from_pretrained(\"gpt2\", pad_token_id=tokenizer.eos_token_id)\n",
    "tokenizer = GPT2Tokenizer.from_pretrained(\"gpt2\")"
   ]
  },
  {
   "cell_type": "code",
   "execution_count": 28,
   "id": "74a3d0b1",
   "metadata": {},
   "outputs": [],
   "source": [
    "force_word = \"scared\"\n",
    "force_flexible = [\"scream\", \"screams\", \"screaming\", \"screamed\"]\n",
    "\n",
    "force_words_ids = [\n",
    "    tokenizer([force_word], add_prefix_space=True, add_special_tokens=False).input_ids,\n",
    "    tokenizer(force_flexible, add_prefix_space=True, add_special_tokens=False).input_ids,\n",
    "]\n",
    "\n",
    "starting_text = [\"The soldiers\", \"The child\"]\n",
    "\n",
    "input_ids = tokenizer(starting_text, return_tensors=\"pt\").input_ids"
   ]
  },
  {
   "cell_type": "code",
   "execution_count": 34,
   "id": "538fc4d5",
   "metadata": {},
   "outputs": [
    {
     "name": "stdout",
     "output_type": "stream",
     "text": [
      "Output:\n",
      "----------------------------------------------------------------------------------------------------\n",
      "The soldiers, who were all scared and screaming at each other as they tried to get out of the\n",
      "The child was taken to a local hospital where she screamed and scared for her life, police said.\n"
     ]
    }
   ],
   "source": [
    "outputs = model.generate(\n",
    "    input_ids,\n",
    "    force_words_ids=force_words_ids,\n",
    "    num_beams=10,\n",
    "    num_return_sequences=1,\n",
    "    no_repeat_ngram_size=1,\n",
    "    remove_invalid_values=True\n",
    ")\n",
    "\n",
    "print(\"Output:\\n\" + 100 * '-')\n",
    "print(tokenizer.decode(outputs[0], skip_special_tokens=True))\n",
    "print(tokenizer.decode(outputs[1], skip_special_tokens=True))"
   ]
  },
  {
   "cell_type": "markdown",
   "id": "48156b43",
   "metadata": {},
   "source": [
    "#### PhrasalConstraint"
   ]
  },
  {
   "cell_type": "code",
   "execution_count": 36,
   "id": "128b8c71",
   "metadata": {},
   "outputs": [],
   "source": [
    "tokenizer = AutoTokenizer.from_pretrained(\"t5-base\")\n",
    "model = AutoModelForSeq2SeqLM.from_pretrained(\"t5-base\")"
   ]
  },
  {
   "cell_type": "code",
   "execution_count": 39,
   "id": "b0ec722c",
   "metadata": {},
   "outputs": [],
   "source": [
    "encoder_input_str = \"translate English to German: How old are you?\"\n",
    "\n",
    "constraints = [\n",
    "    PhrasalConstraint(\n",
    "        tokenizer(\"Sie\", add_special_tokens=False).input_ids\n",
    "    )\n",
    "]\n",
    "\n",
    "input_ids = tokenizer(encoder_input_str, return_tensors=\"pt\").input_ids"
   ]
  },
  {
   "cell_type": "code",
   "execution_count": 40,
   "id": "fb58f47b",
   "metadata": {},
   "outputs": [],
   "source": [
    "outputs = model.generate(\n",
    "    input_ids,\n",
    "    constraints=constraints,\n",
    "    num_beams=10,\n",
    "    num_return_sequences=1,\n",
    "    no_repeat_ngram_size=1,\n",
    "    remove_invalid_values=True,\n",
    ")"
   ]
  },
  {
   "cell_type": "code",
   "execution_count": 41,
   "id": "441220c5",
   "metadata": {},
   "outputs": [
    {
     "name": "stdout",
     "output_type": "stream",
     "text": [
      "Output:\n",
      "----------------------------------------------------------------------------------------------------\n",
      "Wie alt sind Sie?\n"
     ]
    }
   ],
   "source": [
    "print(\"Output:\\n\" + 100 * '-')\n",
    "print(tokenizer.decode(outputs[0], skip_special_tokens=True))"
   ]
  }
 ],
 "metadata": {
  "kernelspec": {
   "display_name": "textGeneration",
   "language": "python",
   "name": "textgeneration"
  },
  "language_info": {
   "codemirror_mode": {
    "name": "ipython",
    "version": 3
   },
   "file_extension": ".py",
   "mimetype": "text/x-python",
   "name": "python",
   "nbconvert_exporter": "python",
   "pygments_lexer": "ipython3",
   "version": "3.8.13"
  }
 },
 "nbformat": 4,
 "nbformat_minor": 5
}
